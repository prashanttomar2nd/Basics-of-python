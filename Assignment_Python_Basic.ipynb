{
  "nbformat": 4,
  "nbformat_minor": 0,
  "metadata": {
    "colab": {
      "provenance": []
    },
    "kernelspec": {
      "name": "python3",
      "display_name": "Python 3"
    },
    "language_info": {
      "name": "python"
    }
  },
  "cells": [
    {
      "cell_type": "code",
      "execution_count": null,
      "metadata": {
        "id": "zvEgghQPYsol"
      },
      "outputs": [],
      "source": []
    },
    {
      "cell_type": "markdown",
      "source": [
        "1. What is Python, and why is it popular?\n",
        "      - Python is a interpreted language also general-purpose, high-level programming language, meaning it can be used for a wide range of tasks.\n",
        "\n",
        "2. What is an interpreter in Python?\n",
        "      - In Python, an interpreter is a program that directly executes code written in the Python programming language. Unlike compilers, which translate an entire program into machine code before execution, an interpreter processes and executes the code line by line at runtime.\n",
        "\n",
        "3. What are pre-defined keywords in Python?\n",
        "      - Predefined keywords in Python are reserved words that possess specific, immutable meanings within the language's syntax. Such as While, True, And, continue, if, else etc.\n",
        "\n",
        "4. Can keywords be used as variable names?\n",
        "      - No variable names cannot be used as keywords.\n",
        "\n",
        "5. What is mutability in Python?\n",
        "      - Mutability in python is that which is changeable. Like List is mutable and tuple is immutable.\n",
        "\n",
        "6. Why are lists mutable, but tuples are immutable?\n",
        "      -  List is mutable because we can change and update the list and creation but unlike tuple we cannot change and update.\n",
        "\n",
        "7. What is the difference between “==” and “is” operators in Python?\n",
        "      - \"==\" operator compares values of two object, whereas \"is\" operator compares identity of two objects.\n",
        "    \n",
        "8. What are logical operators in Python?\n",
        "      - AND, OR, NOT are logical operators in python.\n",
        "\n",
        "9. What is type casting in Python?\n",
        "      - Type casting method of conversion of data type of varialbe or values from one data type to another data type.\n",
        "\n",
        "10. What is the difference between implicit and explicit type casting?\n",
        "      - Implicit type casting (or conversion) happens automatically when the compiler converts a data type to a higher\n",
        "      Explicit type casting requires the programmer to manually force the conversion of a data type, often from a larger type to a smaller one.\n",
        "\n",
        "11.  What is the purpose of conditional statements in Python?\n",
        "      - conditional statement controls the flow of program whether the certain condition are met or not. It enable programmer to make desicion and execute different blocks of code.\n",
        "\n",
        "12. How does the elif statement work?\n",
        "      - In a code If conditon get false then the code block will jump to elif conditon and will run the code.\n",
        "\n",
        "13.  What is the difference between for and while loops?\n",
        "      - for loop is used when the number of iterations is known beforehand, iterating over a sequence, while a while loop is used when the number of iterations is unknown, repeating as long as a condition remains true.\n",
        "\n",
        "14. Describe a scenario where a while loop is more suitable than a for loop?\n",
        "      - A while loop is more suitable than a for loop when you dont know in advance how many iterations the loop will need to perform. This typically happens when you're waiting for a certain condition to become false, rather than iterating over a fixed range or collection."
      ],
      "metadata": {
        "id": "CcO8s6S6ySeB"
      }
    },
    {
      "cell_type": "code",
      "source": [
        "# 1.Write a Python program to print \"Hello, World!\n",
        "print(\"Hello,World!\")"
      ],
      "metadata": {
        "colab": {
          "base_uri": "https://localhost:8080/"
        },
        "id": "Ad_-qxRe86vX",
        "outputId": "e3be4bdc-6b68-46d2-e8b3-c0ad6fa7de1c"
      },
      "execution_count": null,
      "outputs": [
        {
          "output_type": "stream",
          "name": "stdout",
          "text": [
            "Hello,World!\n"
          ]
        }
      ]
    },
    {
      "cell_type": "code",
      "source": [
        "# 2.Write a Python program that displays your name and age\n",
        "name =  \"Prashant\"\n",
        "age = 25\n",
        "print(\"Name is\",name)\n",
        "print(\"Age is\",age)"
      ],
      "metadata": {
        "colab": {
          "base_uri": "https://localhost:8080/"
        },
        "id": "oFJ34hdl9Lsv",
        "outputId": "54724423-ff6a-4ba0-b32b-d243e80c6154"
      },
      "execution_count": null,
      "outputs": [
        {
          "output_type": "stream",
          "name": "stdout",
          "text": [
            "Name is Prashant\n",
            "Age is 25\n"
          ]
        }
      ]
    },
    {
      "cell_type": "code",
      "source": [
        "#3. Write code to print all the pre-defined keywords in Python using the keyword library8\n",
        "\n",
        "import keyword\n",
        "\n",
        "keywords_list = keyword.kwlist\n",
        "\n",
        "print(\"Python Keywords:\")\n",
        "for i in keywords_list:\n",
        "    print(i)"
      ],
      "metadata": {
        "colab": {
          "base_uri": "https://localhost:8080/"
        },
        "id": "y9vMe7aC9tVC",
        "outputId": "3b5bcb56-f68c-449b-d486-7e65e7153a08"
      },
      "execution_count": null,
      "outputs": [
        {
          "output_type": "stream",
          "name": "stdout",
          "text": [
            "Python Keywords:\n",
            "False\n",
            "None\n",
            "True\n",
            "and\n",
            "as\n",
            "assert\n",
            "async\n",
            "await\n",
            "break\n",
            "class\n",
            "continue\n",
            "def\n",
            "del\n",
            "elif\n",
            "else\n",
            "except\n",
            "finally\n",
            "for\n",
            "from\n",
            "global\n",
            "if\n",
            "import\n",
            "in\n",
            "is\n",
            "lambda\n",
            "nonlocal\n",
            "not\n",
            "or\n",
            "pass\n",
            "raise\n",
            "return\n",
            "try\n",
            "while\n",
            "with\n",
            "yield\n"
          ]
        }
      ]
    },
    {
      "cell_type": "code",
      "source": [
        "# 4. Write a program that checks if a given word is a Python keyword.\n",
        "\n",
        "import keyword\n",
        "\n",
        "word = input(\"Enter a any Keyword\")\n",
        "\n",
        "if keyword.iskeyword(word):\n",
        "  print(f\"'{word}'is a python keyword.\")\n",
        "else:\n",
        "  print(f\"'{word}'is not a python Keyword.\")\n"
      ],
      "metadata": {
        "colab": {
          "base_uri": "https://localhost:8080/"
        },
        "id": "VG0Q51-h_Xai",
        "outputId": "5117e171-cebf-4517-c003-6c10af557832"
      },
      "execution_count": null,
      "outputs": [
        {
          "output_type": "stream",
          "name": "stdout",
          "text": [
            "Enter a any Keywordif\n",
            "'if'is a python keyword.\n"
          ]
        }
      ]
    },
    {
      "cell_type": "code",
      "source": [
        "# 5. Create a list and tuple in Python, and demonstrate how attempting to change an element works differently for each.\n",
        "\n",
        "list1 = [23,45,56,65,55]\n",
        "tup1 =  (34,54,65,75,32)\n",
        "\n",
        "list1[0] = \"Prashant\"\n",
        "print(list1)\n",
        "\n",
        "#tup1[0] = \"Tomar\"\n",
        "#print(tup1) # Here error will come because tuple is immutable."
      ],
      "metadata": {
        "colab": {
          "base_uri": "https://localhost:8080/"
        },
        "id": "3vrJUo5yA8Z_",
        "outputId": "01421160-48de-482f-d17b-3563e34a70e8"
      },
      "execution_count": null,
      "outputs": [
        {
          "output_type": "stream",
          "name": "stdout",
          "text": [
            "['Prashant', 45, 56, 65, 55]\n"
          ]
        }
      ]
    },
    {
      "cell_type": "code",
      "source": [
        "# 6. Write a function to demonstrate the behavior of mutable and immutable arguments.\n",
        "list1 = [23,45,56,65,55]\n",
        "tup1 =  (34,54,65,75,32)\n",
        "\n",
        "list1[0] = \"Prashant\"\n",
        "print(list1)\n",
        "\n",
        "#tup1[0] = \"Tomar\"\n",
        "#print(tup1) # Here error will come because tuple is immutable."
      ],
      "metadata": {
        "id": "2Helww0sE4bT",
        "colab": {
          "base_uri": "https://localhost:8080/"
        },
        "outputId": "c9c7202b-043c-46e2-9fd2-5c5e9f2cd10e"
      },
      "execution_count": 9,
      "outputs": [
        {
          "output_type": "stream",
          "name": "stdout",
          "text": [
            "['Prashant', 45, 56, 65, 55]\n"
          ]
        }
      ]
    },
    {
      "cell_type": "code",
      "source": [
        "# 7. Write a program that performs basic arithmetic operations on two user-input numbers.\n",
        "\n",
        "num1 = int(input(\"Enter your first number\"))\n",
        "num2 = int(input(\"Enter your second number\"))\n",
        "\n",
        "sum = num1 + num2\n",
        "multi = num1 * num2\n",
        "sub = num1 - num2\n",
        "div = num1 // num2\n",
        "\n",
        "print(\"Sum of two number is\", sum)\n",
        "print(\"Multiplication of two number is\", multi)\n",
        "print(\"Subtraction of two number is\", sub)\n",
        "print(\"Divison of two number is\", div)"
      ],
      "metadata": {
        "colab": {
          "base_uri": "https://localhost:8080/"
        },
        "id": "zV-NopJRFfaf",
        "outputId": "7c516f74-98a7-4080-cf6d-ed51356e1f8e"
      },
      "execution_count": null,
      "outputs": [
        {
          "output_type": "stream",
          "name": "stdout",
          "text": [
            "Enter your first number10\n",
            "Enter your second number5\n",
            "Sum of two number is 15\n",
            "Mulltiplication of two number is 50\n",
            "Subtraction of two number is 5\n",
            "Divison of two number is 2\n"
          ]
        }
      ]
    },
    {
      "cell_type": "code",
      "source": [
        "# 8. Write a program to demonstrate the use of logical operators.\n",
        "\n",
        "a = int(input(\"Enter a first number\"))\n",
        "b = int(input(\"Enter a  second number\"))\n",
        "\n",
        "if a > 0 and b > 0:\n",
        "  print(\"Both a and b are positive numbers\")\n",
        "else:\n",
        "  print(\"Either a and b are negative numbers\")"
      ],
      "metadata": {
        "colab": {
          "base_uri": "https://localhost:8080/"
        },
        "id": "K6TdKkb2GO4r",
        "outputId": "0634e6ce-4495-45ea-9cb8-f7ad674f46ff"
      },
      "execution_count": null,
      "outputs": [
        {
          "output_type": "stream",
          "name": "stdout",
          "text": [
            "Enter a first number23\n",
            "Enter a  second number232\n",
            "Both a and b are positive numbers\n"
          ]
        }
      ]
    },
    {
      "cell_type": "code",
      "source": [
        "# 9. Write a Python program to convert user input from string to integer, float, and boolean types\n",
        "\n",
        "num = input(\"Enter a number\")\n",
        "\n",
        "type(num)\n",
        "print(type(int(num)))\n",
        "print(type(float(num)))\n",
        "print(type(str(num)))\n",
        "print(type(bool(num)))\n",
        "\n",
        "\n"
      ],
      "metadata": {
        "colab": {
          "base_uri": "https://localhost:8080/"
        },
        "id": "uT_o3sYxHhQQ",
        "outputId": "05a578cb-35ea-4f7f-f48c-e5b7ff41c657"
      },
      "execution_count": null,
      "outputs": [
        {
          "output_type": "stream",
          "name": "stdout",
          "text": [
            "Enter a number32\n",
            "<class 'int'>\n",
            "<class 'float'>\n",
            "<class 'str'>\n",
            "<class 'bool'>\n"
          ]
        }
      ]
    },
    {
      "cell_type": "code",
      "source": [
        "# 10. Write code to demonstrate type casting with list elements.\n",
        "\n",
        "list1 = ['Prashant', 45, 56, 65, 55, True]\n",
        "\n",
        "type(list1[1])\n",
        "print(type(str(list1[1])))\n",
        "print(type(str(list1[5])))\n"
      ],
      "metadata": {
        "colab": {
          "base_uri": "https://localhost:8080/"
        },
        "id": "d9T914KeJVRl",
        "outputId": "ad13e55e-bd55-45ea-eba5-d08b68d46a7d"
      },
      "execution_count": null,
      "outputs": [
        {
          "metadata": {
            "tags": null
          },
          "name": "stdout",
          "output_type": "stream",
          "text": [
            "<class 'str'>\n",
            "<class 'str'>\n"
          ]
        }
      ]
    },
    {
      "cell_type": "code",
      "source": [
        "# 11. Write a program that checks if a number is positive, negative, or zero.\n",
        "\n",
        "num =  int(input(\"Enter a number\"))\n",
        "\n",
        "if num > 0:\n",
        "  print(\"Entered number is Positive\")\n",
        "elif num < 0:\n",
        "  print(\"Entered number is  Negative\")\n",
        "else:\n",
        "  print(\"Entered numbe\")"
      ],
      "metadata": {
        "id": "ur9EvGV6KgfF",
        "colab": {
          "base_uri": "https://localhost:8080/"
        },
        "outputId": "f30f2e49-6197-409f-fcdf-033966ec08f4"
      },
      "execution_count": null,
      "outputs": [
        {
          "output_type": "stream",
          "name": "stdout",
          "text": [
            "Enter a number3\n",
            "Entered number is Positive\n"
          ]
        }
      ]
    },
    {
      "cell_type": "code",
      "source": [
        "# 12. Write a for loop to print numbers from 1 to 10.\n",
        "\n",
        "i = 1\n",
        "for i in range(1, 11):\n",
        "  print(i)"
      ],
      "metadata": {
        "colab": {
          "base_uri": "https://localhost:8080/"
        },
        "id": "kVkywo2yrTxp",
        "outputId": "b76b66da-1292-4980-80ea-06f709a8eff1"
      },
      "execution_count": null,
      "outputs": [
        {
          "output_type": "stream",
          "name": "stdout",
          "text": [
            "1\n",
            "2\n",
            "3\n",
            "4\n",
            "5\n",
            "6\n",
            "7\n",
            "8\n",
            "9\n",
            "10\n"
          ]
        }
      ]
    },
    {
      "cell_type": "code",
      "source": [
        "# 13. Write a Python program to find the sum of all even numbers between 1 and 50.\n",
        "\n",
        "sum =  0\n",
        "\n",
        "for num in range(1, 51):\n",
        "  if num % 2 == 0:\n",
        "    sum += num\n",
        "print(sum)"
      ],
      "metadata": {
        "colab": {
          "base_uri": "https://localhost:8080/"
        },
        "id": "n7IYQOnrriTv",
        "outputId": "4c737f63-ab18-4f58-d7e1-a3930f428417"
      },
      "execution_count": null,
      "outputs": [
        {
          "output_type": "stream",
          "name": "stdout",
          "text": [
            "650\n"
          ]
        }
      ]
    },
    {
      "cell_type": "code",
      "source": [
        "# 14. Write a program to reverse a string using a while loop.\n",
        "\n",
        "org_str = input(\"Enter a string\")\n",
        "\n",
        "rev_str = \" \"\n",
        "\n",
        "i = len(org_str) - 1\n",
        "\n",
        "while i >= 0:\n",
        "  rev_str += org_str[i]\n",
        "  i -= 1\n",
        "\n",
        "print(\"Reverse string\", rev_str)"
      ],
      "metadata": {
        "id": "8HtpUVe6r9wv",
        "colab": {
          "base_uri": "https://localhost:8080/"
        },
        "outputId": "4a345aa3-0e10-4cce-9719-10dee9f63729"
      },
      "execution_count": 2,
      "outputs": [
        {
          "output_type": "stream",
          "name": "stdout",
          "text": [
            "Enter a stringpython\n",
            "Reverse string  nohtyp\n"
          ]
        }
      ]
    },
    {
      "cell_type": "code",
      "source": [
        "# 15.  Write a Python program to calculate the factorial of a number provided by the user using a while loop.\n",
        "\n",
        "num = int(input(\"Enter a number to calculate a factorial = \"))\n",
        "\n",
        "factorial = 1\n",
        "i = 1\n",
        "\n",
        "while i <= num:\n",
        "  factorial = factorial * i\n",
        "  i += 1\n",
        "print(f\"Factorial of '{num}' is = \", factorial)\n"
      ],
      "metadata": {
        "colab": {
          "base_uri": "https://localhost:8080/"
        },
        "id": "jXNvaXaFFHHJ",
        "outputId": "2ff74ab6-799a-4741-89ff-e0e23bfb2259"
      },
      "execution_count": 8,
      "outputs": [
        {
          "output_type": "stream",
          "name": "stdout",
          "text": [
            "Enter a number to calculate a factorial = 5\n",
            "Factorial of '5' is =  120\n"
          ]
        }
      ]
    }
  ]
}